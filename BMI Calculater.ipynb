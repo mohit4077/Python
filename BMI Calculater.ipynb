{
 "cells": [
  {
   "cell_type": "code",
   "execution_count": null,
   "id": "4fb45760-d711-4e24-ac71-ff10285338e8",
   "metadata": {},
   "outputs": [],
   "source": [
    "#BMI = (weight in kgs) / (height in cms x height in cms) * 10000\n"
   ]
  },
  {
   "cell_type": "code",
   "execution_count": null,
   "id": "dae8873d-630b-4807-bae6-a0a76a0ef5f1",
   "metadata": {},
   "outputs": [],
   "source": [
    "try:\n",
    "    name = input(\"Enter your name:\" )\n",
    "    weight = int(input(\"Enter your weight in kgs:\" ))\n",
    "    height = int(input(\"Enter your height in cms:\" ))\n",
    "\n",
    "    BMI = (weight) / (height * height ) * 10000\n",
    "    print(BMI)\n",
    "\n",
    "    if BMI>0:\n",
    "        if(BMI<18.5):\n",
    "            print(name +\", you are underwight.\")\n",
    "        elif (BMI<=24.9):\n",
    "            print(name +\", you are normal weight.\")\n",
    "        elif (BMI<29.9):\n",
    "            print(name +\", you are overweight.\")\n",
    "        elif (BMI<34.9):\n",
    "            print(name +\", you are obese.\")\n",
    "        elif (BMI<39.9):\n",
    "            print(name +\", you are severely obese.\")\n",
    "        else:\n",
    "            print(name +\", you are morbidly obese.\")\n",
    "    else:\n",
    "        print(\"Enter valid input\")\n",
    "except ValueError:\n",
    "    print(\"Not valid input\")\n",
    "    "
   ]
  },
  {
   "cell_type": "code",
   "execution_count": null,
   "id": "028fc835-506b-43fb-ad4a-789b4748a362",
   "metadata": {},
   "outputs": [],
   "source": [
    "#Under 18.5\tUnderweight\tMinimal\n",
    "#18.5 - 24.9\tNormal Weight\tMinimal\n",
    "#25 - 29.9\tOverweight\tIncreased\n",
    "#30 - 34.9\tObese\tHigh\n",
    "#35 - 39.9\tSeverely Obese\tVery High\n",
    "#40 and over\tMorbidly Obese\tExtremely High"
   ]
  }
 ],
 "metadata": {
  "kernelspec": {
   "display_name": "anaconda-2022.05-py39",
   "language": "python",
   "name": "conda-env-anaconda-2022.05-py39-py"
  },
  "language_info": {
   "codemirror_mode": {
    "name": "ipython",
    "version": 3
   },
   "file_extension": ".py",
   "mimetype": "text/x-python",
   "name": "python",
   "nbconvert_exporter": "python",
   "pygments_lexer": "ipython3",
   "version": "3.9.12"
  }
 },
 "nbformat": 4,
 "nbformat_minor": 5
}
